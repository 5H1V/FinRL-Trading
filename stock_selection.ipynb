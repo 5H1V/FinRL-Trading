{
 "cells": [
  {
   "cell_type": "code",
   "execution_count": 25,
   "metadata": {},
   "outputs": [],
   "source": [
    "import pandas as pd\n",
    "import time\n",
    "import os"
   ]
  },
  {
   "cell_type": "code",
   "execution_count": null,
   "metadata": {},
   "outputs": [],
   "source": [
    "# Define the industry range\n",
    "sectors = range(10, 65, 5)\n",
    "\n",
    "# Set the data directory path - hardcoded as my_outputs\n",
    "DATA_DIR = \"./data_processor/my_outputs\"\n",
    "FUNDAMENTAL_FILE = f\"{DATA_DIR}/final_ratios.csv\"\n",
    "\n",
    "print(f\"Using data directory: {DATA_DIR}\")\n",
    "print(f\"Fundamental data file: {FUNDAMENTAL_FILE}\")\n",
    "print(f\"Industry range: {list(sectors)}\")"
   ]
  },
  {
   "cell_type": "code",
   "execution_count": 27,
   "metadata": {},
   "outputs": [],
   "source": [
    "#gvkey is unique identifier\n",
    "df_dict = {'gvkey':[], 'predicted_return':[], 'trade_date':[]}"
   ]
  },
  {
   "cell_type": "code",
   "execution_count": null,
   "metadata": {},
   "outputs": [],
   "source": [
    "# ===== New Code: Run Stock Selection for All Sectors in the my_outputs Directory =====\n",
    "start=time.time()\n",
    "print(\"Starting to run the stock selection model for all sectors...\")\n",
    "\n",
    "for sector in sectors:\n",
    "    sector_file = f\"{DATA_DIR}/sector{sector}.xlsx\"\n",
    "    print(f\"\\nProcessing sector{sector}...\")\n",
    "    \n",
    "    # Run Model Training - Using Files in the my_outputs Directory\n",
    "    cmd = f\"python fundamental_run_model.py -sector_name sector{sector} -tic_column gvkey -fundamental {FUNDAMENTAL_FILE} -sector {sector_file}\"\n",
    "    print(f\"Command executed: {cmd}\")\n",
    "    \n",
    "    os.system(cmd)\n",
    "    \n",
    "    # Read Prediction Results\n",
    "    df = pd.read_csv(f\"results/sector{sector}/df_predict_best.csv\", index_col=0)\n",
    "    print(f\"  Reading prediction results: {df.shape[0]} dates, {df.shape[1]} stocks\")\n",
    "    \n",
    "    for idx in df.index:\n",
    "        predicted_return = df.loc[idx]\n",
    "        top_q = predicted_return.quantile(0.75)\n",
    "        predicted_return = predicted_return[predicted_return >= top_q]\n",
    "        for gvkey in predicted_return.index:\n",
    "            df_dict[\"gvkey\"].append(gvkey)\n",
    "            df_dict[\"predicted_return\"].append(predicted_return[gvkey])\n",
    "            df_dict[\"trade_date\"].append(idx)\n",
    "    \n",
    "    print(f\"  ✓ sector{sector} Processing completed\")\n",
    "\n",
    "end=time.time()\n",
    "\n",
    "# ===== Existing code (commented) =====\n",
    "# start=time.time()\n",
    "# for sector in sectors:\n",
    "#     os.system(f\"python3 fundamental_run_model.py -sector_name sector{sector} -tic_column gvkey -fundamental final_ratios.csv -sector sector{sector}.xlsx \")\n",
    "#     df = pd.read_csv(f\"results/sector{sector}/df_predict_best.csv\", index_col=0)\n",
    "#     for idx in df.index:\n",
    "#         predicted_return = df.loc[idx]\n",
    "#         top_q = predicted_return.quantile(0.75)\n",
    "#         predicted_return = predicted_return[predicted_return >= top_q]\n",
    "#         for gvkey in predicted_return.index:\n",
    "#             df_dict[\"gvkey\"].append(gvkey)\n",
    "#             df_dict[\"predicted_return\"].append(predicted_return[gvkey])\n",
    "#             df_dict[\"trade_date\"].append(idx)\n",
    "# end=time.time()"
   ]
  },
  {
   "cell_type": "code",
   "execution_count": null,
   "metadata": {},
   "outputs": [
    {
     "name": "stdout",
     "output_type": "stream",
     "text": [
      "总耗时: 0.40141645272572835 分钟\n",
      "处理完成！总记录数: 0\n"
     ]
    }
   ],
   "source": [
    "print(\"Total time taken: \", (end-start)/60, ' minutes')\n",
    "print(f\"Processing complete! Total records: {len(df_dict['gvkey'])}\")\n",
    "\n",
    "# Existing code (commented)\n",
    "# print(\"it took \", (end-start)/60, ' minutes')"
   ]
  },
  {
   "cell_type": "code",
   "execution_count": 6,
   "metadata": {},
   "outputs": [],
   "source": [
    "df_result = pd.DataFrame(df_dict)"
   ]
  },
  {
   "cell_type": "code",
   "execution_count": null,
   "metadata": {},
   "outputs": [
    {
     "name": "stdout",
     "output_type": "stream",
     "text": [
      "结果已保存到: stock_selected_my_outputs.csv\n"
     ]
    }
   ],
   "source": [
    "# Save results to a CSV file - using a new filename\n",
    "output_file = \"stock_selected_my_outputs.csv\"\n",
    "df_result.to_csv(output_file, index=False)\n",
    "print(f\"Results saved to: {output_file}\")\n",
    "\n",
    "# Existing code (commented)\n",
    "# df_result.to_csv(\"stock_selected.csv\")"
   ]
  },
  {
   "cell_type": "code",
   "execution_count": 9,
   "metadata": {},
   "outputs": [
    {
     "data": {
      "text/html": [
       "<div>\n",
       "<style scoped>\n",
       "    .dataframe tbody tr th:only-of-type {\n",
       "        vertical-align: middle;\n",
       "    }\n",
       "\n",
       "    .dataframe tbody tr th {\n",
       "        vertical-align: top;\n",
       "    }\n",
       "\n",
       "    .dataframe thead th {\n",
       "        text-align: right;\n",
       "    }\n",
       "</style>\n",
       "<table border=\"1\" class=\"dataframe\">\n",
       "  <thead>\n",
       "    <tr style=\"text-align: right;\">\n",
       "      <th></th>\n",
       "      <th>gvkey</th>\n",
       "      <th>predicted_return</th>\n",
       "      <th>trade_date</th>\n",
       "    </tr>\n",
       "  </thead>\n",
       "  <tbody>\n",
       "  </tbody>\n",
       "</table>\n",
       "</div>"
      ],
      "text/plain": [
       "Empty DataFrame\n",
       "Columns: [gvkey, predicted_return, trade_date]\n",
       "Index: []"
      ]
     },
     "execution_count": 9,
     "metadata": {},
     "output_type": "execute_result"
    }
   ],
   "source": [
    "df_result.head()"
   ]
  }
 ],
 "metadata": {
  "kernelspec": {
   "display_name": "Python 3",
   "language": "python",
   "name": "python3"
  },
  "language_info": {
   "codemirror_mode": {
    "name": "ipython",
    "version": 3
   },
   "file_extension": ".py",
   "mimetype": "text/x-python",
   "name": "python",
   "nbconvert_exporter": "python",
   "pygments_lexer": "ipython3",
   "version": "3.7.7"
  },
  "vscode": {
   "interpreter": {
    "hash": "31f2aee4e71d21fbe5cf8b01ff0e069b9275f58929596ceb00d14d90e3e16cd6"
   }
  }
 },
 "nbformat": 4,
 "nbformat_minor": 2
}
